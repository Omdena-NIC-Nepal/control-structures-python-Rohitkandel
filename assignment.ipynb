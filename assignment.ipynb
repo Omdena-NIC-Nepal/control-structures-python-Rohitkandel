{
 "cells": [
  {
   "cell_type": "code",
   "execution_count": null,
   "metadata": {},
   "outputs": [
    {
     "name": "stdout",
     "output_type": "stream",
     "text": [
      "0\n",
      "2\n",
      "4\n",
      "6\n",
      "8\n",
      "10\n",
      "12\n",
      "14\n",
      "16\n"
     ]
    }
   ],
   "source": [
    "# Task 1: while loop\n",
    "def while_loop():\n",
    "    number=0\n",
    "    while number <= 20:\n",
    "        # Your code here\n",
    "        if number %2 == 0:\n",
    "            print(number)\n",
    "        if number == 16:\n",
    "            break\n",
    "        number +=1\n",
    "\n",
    "\n"
   ]
  },
  {
   "cell_type": "code",
   "execution_count": null,
   "metadata": {},
   "outputs": [
    {
     "name": "stdout",
     "output_type": "stream",
     "text": [
      "1\n",
      "2\n",
      "4\n",
      "5\n",
      "7\n",
      "8\n",
      "10\n",
      "11\n",
      "13\n",
      "14\n"
     ]
    }
   ],
   "source": [
    "# Task 2: for loop with continue\n",
    "def for_loop_continue():\n",
    " for num in range(1, 16):\n",
    "    # Your code here\n",
    "    if num %3 ==0:\n",
    "        continue  # Skips the number if it is divisibe by 3.\n",
    "    print(num)"
   ]
  },
  {
   "cell_type": "code",
   "execution_count": null,
   "metadata": {},
   "outputs": [],
   "source": [
    "# Task 3: if-else statement\n",
    "def number_classification():\n",
    "    # Your code here\n",
    "    try:\n",
    "        number = int(input(\"Enter a number: \"))\n",
    "        if number>0:\n",
    "            print(\"The number is positive.\")\n",
    "        elif number<0:\n",
    "            print(\"The number is negative.\")\n",
    "        elif number == 0:\n",
    "            print(\"The number is zero.\")\n",
    "    except ValueError:\n",
    "        print(\"Please enter a integer number only.\")\n",
    "    \n",
    "     \n"
   ]
  },
  {
   "cell_type": "code",
   "execution_count": null,
   "metadata": {},
   "outputs": [],
   "source": [
    "# Task 4: Nested loops\n",
    "def multiplication_table():\n",
    "    # Your code here\n",
    " for i in range(1, 6):\n",
    "    for j in range(1, 6):\n",
    "        print(f\"{i} x {j} = {i*j}\")"
   ]
  }
 ],
 "metadata": {
  "kernelspec": {
   "display_name": "Python 3",
   "language": "python",
   "name": "python3"
  },
  "language_info": {
   "codemirror_mode": {
    "name": "ipython",
    "version": 3
   },
   "file_extension": ".py",
   "mimetype": "text/x-python",
   "name": "python",
   "nbconvert_exporter": "python",
   "pygments_lexer": "ipython3",
   "version": "3.9.13"
  }
 },
 "nbformat": 4,
 "nbformat_minor": 2
}
